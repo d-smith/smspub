{
 "cells": [
  {
   "cell_type": "markdown",
   "metadata": {},
   "source": [
    "## DDB Context"
   ]
  },
  {
   "cell_type": "code",
   "execution_count": null,
   "metadata": {
    "collapsed": true
   },
   "outputs": [],
   "source": [
    "# Stack prefix used for ddb stack\n",
    "stack_prefix = 'xt0-'"
   ]
  },
  {
   "cell_type": "code",
   "execution_count": null,
   "metadata": {
    "collapsed": true
   },
   "outputs": [],
   "source": [
    "# DDB stack\n",
    "ddb_stack = stack_prefix + 'sddb'"
   ]
  },
  {
   "cell_type": "code",
   "execution_count": null,
   "metadata": {
    "collapsed": true
   },
   "outputs": [],
   "source": [
    "# AWS SDK import and client for cloud formation\n",
    "import boto3\n",
    "\n",
    "client = boto3.client('cloudformation')"
   ]
  },
  {
   "cell_type": "code",
   "execution_count": null,
   "metadata": {
    "collapsed": false
   },
   "outputs": [],
   "source": [
    "# We need the name of the model instance table\n",
    "response = client.describe_stacks(\n",
    "    StackName=ddb_stack\n",
    ")\n",
    "\n",
    "outputs = response['Stacks'][0]['Outputs']\n",
    "print outputs\n",
    "\n",
    "model_instance_table_arn =  [o for o in outputs if o['OutputKey'] == 'InstanceTableArn'][0]['OutputValue']\n",
    "print model_instance_table_arn\n",
    "model_instance_table_name = [o for o in outputs if o['OutputKey'] == 'InstanceTableName'][0]['OutputValue']\n",
    "print model_instance_table_name"
   ]
  },
  {
   "cell_type": "code",
   "execution_count": null,
   "metadata": {
    "collapsed": false
   },
   "outputs": [],
   "source": [
    "# Get the stream ARN\n",
    "streams_client = boto3.client('dynamodbstreams')\n",
    "response = streams_client.list_streams(\n",
    "    TableName=model_instance_table_name\n",
    ")\n",
    "\n",
    "print response\n",
    "\n",
    "stream = response['Streams'][0]['StreamArn']\n",
    "print stream"
   ]
  },
  {
   "cell_type": "markdown",
   "metadata": {},
   "source": [
    "## SMS Sub Context"
   ]
  },
  {
   "cell_type": "code",
   "execution_count": null,
   "metadata": {
    "collapsed": true
   },
   "outputs": [],
   "source": [
    "smssub_stack_name = stack_prefix + 'smssub'"
   ]
  },
  {
   "cell_type": "code",
   "execution_count": null,
   "metadata": {
    "collapsed": false
   },
   "outputs": [],
   "source": [
    "import boto3\n",
    "client = boto3.client('cloudformation')\n",
    "\n",
    "response = client.describe_stack_resources(\n",
    "    StackName=smssub_stack_name\n",
    ")\n",
    "\n",
    "\n",
    "subs_tablename = ''\n",
    "\n",
    "resources = response['StackResources']\n",
    "for r in resources:\n",
    "    rid = r['LogicalResourceId']\n",
    "    \n",
    "    if rid == 'SMSSubTable':\n",
    "        subs_tablename = r['PhysicalResourceId']\n",
    "        \n",
    "print subs_tablename"
   ]
  },
  {
   "cell_type": "markdown",
   "metadata": {},
   "source": [
    "## Deploy Lambda"
   ]
  },
  {
   "cell_type": "code",
   "execution_count": null,
   "metadata": {
    "collapsed": true
   },
   "outputs": [],
   "source": [
    "import os\n",
    "cf_bucket = 'ds-status-us-west-2'\n",
    "template_name = 'smspub.yml'\n",
    "sms_stack = stack_prefix + 'smspub'\n",
    "sms_zip = 'smspub-deployment.zip'"
   ]
  },
  {
   "cell_type": "code",
   "execution_count": null,
   "metadata": {
    "collapsed": false
   },
   "outputs": [],
   "source": [
    "%%bash -s \"$template_name\" \"$sms_zip\" \"$cf_bucket\"\n",
    "make\n",
    "aws s3 cp ./$1 s3://$3\n",
    "aws s3 cp ./$2 s3://$3"
   ]
  },
  {
   "cell_type": "code",
   "execution_count": null,
   "metadata": {
    "collapsed": true
   },
   "outputs": [],
   "source": [
    "def form_s3_url_prefix(region):\n",
    "    prefix = ''\n",
    "    if region == 'us-east-1':\n",
    "        prefix = 'https://s3.amazonaws.com'\n",
    "    else:\n",
    "        prefix = 'https://s3-' + region + '.amazonaws.com'\n",
    "    return prefix"
   ]
  },
  {
   "cell_type": "code",
   "execution_count": null,
   "metadata": {
    "collapsed": false
   },
   "outputs": [],
   "source": [
    "import os\n",
    "region = os.environ['AWS_DEFAULT_REGION']\n",
    "bucketRoot = form_s3_url_prefix(region) + '/' + cf_bucket\n",
    "print bucketRoot"
   ]
  },
  {
   "cell_type": "code",
   "execution_count": null,
   "metadata": {
    "collapsed": false
   },
   "outputs": [],
   "source": [
    "response = client.create_stack(\n",
    "    StackName=sms_stack,\n",
    "    TemplateURL=bucketRoot + '/' + template_name,\n",
    "    Parameters=[\n",
    "        {\n",
    "            'ParameterKey': 'CodeBucketName',\n",
    "            'ParameterValue': cf_bucket\n",
    "        },\n",
    "        {\n",
    "            'ParameterKey': 'StreamArn',\n",
    "            'ParameterValue': stream\n",
    "        },\n",
    "        {\n",
    "            'ParameterKey': 'TableName',\n",
    "            'ParameterValue': model_instance_table_name\n",
    "        },\n",
    "        {\n",
    "            'ParameterKey': 'SMSSubscriptionsTableName',\n",
    "            'ParameterValue': subs_tablename\n",
    "        }\n",
    "    ],\n",
    "    Capabilities=[\n",
    "        'CAPABILITY_IAM',\n",
    "    ]\n",
    ")\n",
    "\n",
    "print response"
   ]
  },
  {
   "cell_type": "code",
   "execution_count": null,
   "metadata": {
    "collapsed": false
   },
   "outputs": [],
   "source": [
    "# Wait for it...\n",
    "print 'wait for create of {}'.format(sms_stack)\n",
    "waiter = client.get_waiter('stack_create_complete')\n",
    "waiter.wait(\n",
    "    StackName=sms_stack\n",
    ")\n",
    "\n",
    "print 'stack created'"
   ]
  },
  {
   "cell_type": "code",
   "execution_count": null,
   "metadata": {
    "collapsed": true
   },
   "outputs": [],
   "source": []
  }
 ],
 "metadata": {
  "kernelspec": {
   "display_name": "Python 2",
   "language": "python",
   "name": "python2"
  },
  "language_info": {
   "codemirror_mode": {
    "name": "ipython",
    "version": 2
   },
   "file_extension": ".py",
   "mimetype": "text/x-python",
   "name": "python",
   "nbconvert_exporter": "python",
   "pygments_lexer": "ipython2",
   "version": "2.7.12"
  }
 },
 "nbformat": 4,
 "nbformat_minor": 0
}
